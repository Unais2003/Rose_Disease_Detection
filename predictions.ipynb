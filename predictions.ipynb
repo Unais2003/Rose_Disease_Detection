{
 "cells": [
  {
   "cell_type": "code",
   "execution_count": 8,
   "id": "fee2dee5",
   "metadata": {},
   "outputs": [
    {
     "name": "stdout",
     "output_type": "stream",
     "text": [
      "1/1 [==============================] - 0s 97ms/step\n",
      "Predicted Class: Rose_Rust with confidence: 1.0\n"
     ]
    }
   ],
   "source": [
    "import tensorflow as tf\n",
    "from tensorflow.keras.preprocessing.image import load_img, img_to_array\n",
    "import numpy as np\n",
    "\n",
    "\n",
    "model = tf.keras.models.load_model(\"rose_leaf_disease_model.h5\")\n",
    "\n",
    "\n",
    "image_path = \"brightened_IMG_20230703_213438.jpg\"\n",
    "\n",
    "\n",
    "img = load_img(image_path, target_size=(128, 128))  \n",
    "img_array = img_to_array(img) / 255.0  \n",
    "img_array = np.expand_dims(img_array, axis=0) \n",
    "\n",
    "\n",
    "confidence_threshold = 0.5\n",
    "\n",
    "\n",
    "predictions = model.predict(img_array)\n",
    "predicted_class = np.argmax(predictions, axis=1)\n",
    "confidence_score = np.max(predictions)\n",
    "\n",
    "\n",
    "class_names = {0: 'Healthy_Leaf_Rose', 1: 'Rose_Rust', 2: 'Rose_sawfly_Rose_slug'}\n",
    "\n",
    "\n",
    "if confidence_score < confidence_threshold:\n",
    "    print(\"Prediction: Unknown (Low Confidence)\")\n",
    "else:\n",
    "    print(\"Predicted Class:\", class_names[predicted_class[0]], \"with confidence:\", confidence_score)\n",
    "\n"
   ]
  },
  {
   "cell_type": "code",
   "execution_count": null,
   "id": "bc4024ba",
   "metadata": {},
   "outputs": [],
   "source": []
  }
 ],
 "metadata": {
  "kernelspec": {
   "display_name": "Python 3 (ipykernel)",
   "language": "python",
   "name": "python3"
  },
  "language_info": {
   "codemirror_mode": {
    "name": "ipython",
    "version": 3
   },
   "file_extension": ".py",
   "mimetype": "text/x-python",
   "name": "python",
   "nbconvert_exporter": "python",
   "pygments_lexer": "ipython3",
   "version": "3.11.5"
  }
 },
 "nbformat": 4,
 "nbformat_minor": 5
}
